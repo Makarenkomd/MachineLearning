{
 "cells": [
  {
   "cell_type": "code",
   "execution_count": 12,
   "metadata": {},
   "outputs": [
    {
     "name": "stdout",
     "output_type": "stream",
     "text": [
      "['00000d2994b6df9239901389031acaac', '5', '{\"809001\":2,\"848545\":2,\"565828\":1,\"490363\":1}', '{\"85789\":1,\"238490\":1,\"32285\":1,\"103987\":1,\"16507\":2,\"6477\":1,\"92797\":2}', '{}', '39\\n']\n"
     ]
    }
   ],
   "source": [
    "fileData = open (\"mlboot_data0.tsv\")\n",
    "data = fileData.readline()\n",
    "line = data.split('\\t')\n",
    "\n",
    "print (line)"
   ]
  },
  {
   "cell_type": "code",
   "execution_count": 25,
   "metadata": {},
   "outputs": [],
   "source": [
    "import pandas as pd\n",
    "data = pd.read_csv('mlboot_data0.tsv', sep='\\t',  names =[\"id\", \"cat_feature\", \"inet1\", \"ine2\", \"inet\",\"day\"])"
   ]
  },
  {
   "cell_type": "code",
   "execution_count": 14,
   "metadata": {},
   "outputs": [
    {
     "data": {
      "text/html": [
       "<div>\n",
       "<style scoped>\n",
       "    .dataframe tbody tr th:only-of-type {\n",
       "        vertical-align: middle;\n",
       "    }\n",
       "\n",
       "    .dataframe tbody tr th {\n",
       "        vertical-align: top;\n",
       "    }\n",
       "\n",
       "    .dataframe thead th {\n",
       "        text-align: right;\n",
       "    }\n",
       "</style>\n",
       "<table border=\"1\" class=\"dataframe\">\n",
       "  <thead>\n",
       "    <tr style=\"text-align: right;\">\n",
       "      <th></th>\n",
       "      <th>id</th>\n",
       "      <th>cat_feature</th>\n",
       "      <th>inet1</th>\n",
       "      <th>ine2</th>\n",
       "      <th>inet</th>\n",
       "      <th>day</th>\n",
       "    </tr>\n",
       "  </thead>\n",
       "  <tbody>\n",
       "    <tr>\n",
       "      <th>0</th>\n",
       "      <td>00000d2994b6df9239901389031acaac</td>\n",
       "      <td>5</td>\n",
       "      <td>{\"809001\":2,\"848545\":2,\"565828\":1,\"490363\":1}</td>\n",
       "      <td>{\"85789\":1,\"238490\":1,\"32285\":1,\"103987\":1,\"16...</td>\n",
       "      <td>{}</td>\n",
       "      <td>39</td>\n",
       "    </tr>\n",
       "    <tr>\n",
       "      <th>1</th>\n",
       "      <td>00000d2994b6df9239901389031acaac</td>\n",
       "      <td>5</td>\n",
       "      <td>{\"809001\":2,\"1160689\":1,\"14018\":1,\"843995\":1,\"...</td>\n",
       "      <td>{\"9629\":1,\"894555\":1,\"2812609\":1,\"15310\":1,\"48...</td>\n",
       "      <td>{}</td>\n",
       "      <td>43</td>\n",
       "    </tr>\n",
       "    <tr>\n",
       "      <th>2</th>\n",
       "      <td>00000d2994b6df9239901389031acaac</td>\n",
       "      <td>5</td>\n",
       "      <td>{\"536657\":1,\"1723154\":1,\"948501\":1,\"1159583\":1...</td>\n",
       "      <td>{\"129137\":1,\"14056\":1,\"9763\":1,\"44215\":1,\"3671...</td>\n",
       "      <td>{}</td>\n",
       "      <td>45</td>\n",
       "    </tr>\n",
       "    <tr>\n",
       "      <th>3</th>\n",
       "      <td>00000d2994b6df9239901389031acaac</td>\n",
       "      <td>5</td>\n",
       "      <td>{\"1676126\":1,\"1321640\":1,\"1198\":1,\"809001\":2,\"...</td>\n",
       "      <td>{\"153774\":1,\"2127\":1,\"158967\":1}</td>\n",
       "      <td>{}</td>\n",
       "      <td>46</td>\n",
       "    </tr>\n",
       "    <tr>\n",
       "      <th>4</th>\n",
       "      <td>00000d2994b6df9239901389031acaac</td>\n",
       "      <td>5</td>\n",
       "      <td>{\"1125045\":2,\"1596919\":1,\"1857574\":1,\"282284\":...</td>\n",
       "      <td>{\"2979\":1,\"30581\":1,\"7296\":1,\"127256\":1,\"18803...</td>\n",
       "      <td>{}</td>\n",
       "      <td>48</td>\n",
       "    </tr>\n",
       "  </tbody>\n",
       "</table>\n",
       "</div>"
      ],
      "text/plain": [
       "                                 id  cat_feature  \\\n",
       "0  00000d2994b6df9239901389031acaac            5   \n",
       "1  00000d2994b6df9239901389031acaac            5   \n",
       "2  00000d2994b6df9239901389031acaac            5   \n",
       "3  00000d2994b6df9239901389031acaac            5   \n",
       "4  00000d2994b6df9239901389031acaac            5   \n",
       "\n",
       "                                               inet1  \\\n",
       "0      {\"809001\":2,\"848545\":2,\"565828\":1,\"490363\":1}   \n",
       "1  {\"809001\":2,\"1160689\":1,\"14018\":1,\"843995\":1,\"...   \n",
       "2  {\"536657\":1,\"1723154\":1,\"948501\":1,\"1159583\":1...   \n",
       "3  {\"1676126\":1,\"1321640\":1,\"1198\":1,\"809001\":2,\"...   \n",
       "4  {\"1125045\":2,\"1596919\":1,\"1857574\":1,\"282284\":...   \n",
       "\n",
       "                                                ine2 inet  day  \n",
       "0  {\"85789\":1,\"238490\":1,\"32285\":1,\"103987\":1,\"16...   {}   39  \n",
       "1  {\"9629\":1,\"894555\":1,\"2812609\":1,\"15310\":1,\"48...   {}   43  \n",
       "2  {\"129137\":1,\"14056\":1,\"9763\":1,\"44215\":1,\"3671...   {}   45  \n",
       "3                   {\"153774\":1,\"2127\":1,\"158967\":1}   {}   46  \n",
       "4  {\"2979\":1,\"30581\":1,\"7296\":1,\"127256\":1,\"18803...   {}   48  "
      ]
     },
     "execution_count": 14,
     "metadata": {},
     "output_type": "execute_result"
    }
   ],
   "source": [
    "data.head()"
   ]
  },
  {
   "cell_type": "code",
   "execution_count": 26,
   "metadata": {},
   "outputs": [
    {
     "name": "stdout",
     "output_type": "stream",
     "text": [
      "(3089, 2)\n"
     ]
    },
    {
     "data": {
      "text/html": [
       "<div>\n",
       "<style scoped>\n",
       "    .dataframe tbody tr th:only-of-type {\n",
       "        vertical-align: middle;\n",
       "    }\n",
       "\n",
       "    .dataframe tbody tr th {\n",
       "        vertical-align: top;\n",
       "    }\n",
       "\n",
       "    .dataframe thead th {\n",
       "        text-align: right;\n",
       "    }\n",
       "</style>\n",
       "<table border=\"1\" class=\"dataframe\">\n",
       "  <thead>\n",
       "    <tr style=\"text-align: right;\">\n",
       "      <th></th>\n",
       "      <th>id</th>\n",
       "      <th>count</th>\n",
       "    </tr>\n",
       "  </thead>\n",
       "  <tbody>\n",
       "    <tr>\n",
       "      <th>0</th>\n",
       "      <td>0068e9af8a4cae7feaba92b50281501e</td>\n",
       "      <td>145</td>\n",
       "    </tr>\n",
       "    <tr>\n",
       "      <th>1</th>\n",
       "      <td>00520331fe4c5829964535b3221d264f</td>\n",
       "      <td>141</td>\n",
       "    </tr>\n",
       "    <tr>\n",
       "      <th>2</th>\n",
       "      <td>007b632b01680f705ea0a25896e56264</td>\n",
       "      <td>140</td>\n",
       "    </tr>\n",
       "    <tr>\n",
       "      <th>3</th>\n",
       "      <td>010913096fd3f7c07f4982a93af31fe3</td>\n",
       "      <td>134</td>\n",
       "    </tr>\n",
       "    <tr>\n",
       "      <th>4</th>\n",
       "      <td>0099508c686a454eef8a708dc30bd2f1</td>\n",
       "      <td>124</td>\n",
       "    </tr>\n",
       "  </tbody>\n",
       "</table>\n",
       "</div>"
      ],
      "text/plain": [
       "                                 id  count\n",
       "0  0068e9af8a4cae7feaba92b50281501e    145\n",
       "1  00520331fe4c5829964535b3221d264f    141\n",
       "2  007b632b01680f705ea0a25896e56264    140\n",
       "3  010913096fd3f7c07f4982a93af31fe3    134\n",
       "4  0099508c686a454eef8a708dc30bd2f1    124"
      ]
     },
     "execution_count": 26,
     "metadata": {},
     "output_type": "execute_result"
    }
   ],
   "source": [
    "dataFile0 = data['id'].value_counts().to_frame('count').reset_index()\n",
    "dataFile0.columns=['id','count']\n",
    "print (dataFile0.shape)\n",
    "dataFile0.head()"
   ]
  },
  {
   "cell_type": "code",
   "execution_count": 27,
   "metadata": {},
   "outputs": [
    {
     "name": "stdout",
     "output_type": "stream",
     "text": [
      "(6275, 2)\n",
      "(9358, 2)\n",
      "(12528, 2)\n",
      "(15660, 2)\n",
      "(18735, 2)\n",
      "(21793, 2)\n",
      "(24761, 2)\n",
      "(27935, 2)\n",
      "(31109, 2)\n",
      "(34225, 2)\n",
      "(35393, 2)\n"
     ]
    }
   ],
   "source": [
    "dataAll = dataFile0\n",
    "for i in range (1,12):\n",
    "    fileName = 'mlboot_data'+str(i)+'.tsv'\n",
    "    data = pd.read_csv(fileName, sep='\\t',  names =[\"id\", \"cat_feature\", \"inet1\", \"ine2\", \"inet\",\"day\"])\n",
    "    dataFile = data['id'].value_counts().to_frame('count').reset_index()\n",
    "    dataFile.columns=['id','count']\n",
    "    dataAll = pd.concat([dataAll, dataFile])\n",
    "    print (dataAll.shape)"
   ]
  },
  {
   "cell_type": "code",
   "execution_count": 18,
   "metadata": {},
   "outputs": [
    {
     "name": "stdout",
     "output_type": "stream",
     "text": [
      "0553d717d31994cab8cbb7b6e03f7f3c    2\n",
      "014c2619f2ce9ba2b459d063ed15e146    2\n",
      "03fa338aadc8fd9a628aa436fedbed74    2\n",
      "0620ed97ab307150fe3ba6117ea4edce    1\n",
      "00c41c40b028e6e457bf54b1736566f1    1\n",
      "02cbf6e25aee950994d6a29db8ae9565    1\n",
      "04882d8ee0bf935b1399196c27b84dcd    1\n",
      "0406357e95b16ed7e2a6e5b0f49edffe    1\n",
      "054209624a70b2c8c080c51ee76e9dec    1\n",
      "027316e4c9c2cd962174cf3b9b10c14d    1\n",
      "018bb2d44d0a9587fae01d18db409295    1\n",
      "03107b8ef424b362f9294c769678fd13    1\n",
      "0388c053b9d7f83be559a0d5b9961ed2    1\n",
      "02de66f1e52dae44429d8612ed24265a    1\n",
      "010bd2e5f50b36804f5fb29954dfa485    1\n",
      "0033517347a5278e958d5d7e36afc824    1\n",
      "00b9fb27eb1f800ddce4a75becddfe66    1\n",
      "01f38dcfff5adbffb162a61a0c1dfd7b    1\n",
      "030708ccc898d6534f6cdc41ef952409    1\n",
      "0329589acfb9bbe8f6b1269329844e12    1\n",
      "014a929453cc74bf2fd78ddd7546b5c9    1\n",
      "05685451155417c26f0f340f9a164969    1\n",
      "04321a2c1646abedf55185b680d2e4e6    1\n",
      "024f641394dd469e2531137388a845e6    1\n",
      "03737837feb25703a9c20078f4ab4abd    1\n",
      "042ce8a85d798b3355d98eae9830f8c1    1\n",
      "04a7e96ad76379a1eab5afa2459d196c    1\n",
      "01ab175b60cd1f00e12c763761667b66    1\n",
      "0630e5c18b526f832c5b0e4fb15193c9    1\n",
      "0238b9844c1f28f57fed05a600f3be56    1\n",
      "                                   ..\n",
      "010691fdcc5e1239714f76b3c70b325c    1\n",
      "0052125eb7e6184b083128e914cb7f2d    1\n",
      "01b732124a16177659fab490f9c66c51    1\n",
      "045adb96423c5c68b1a175c6827d40c9    1\n",
      "013692670af64142c30bc670af5ec11d    1\n",
      "03c4876fb021fd8916e4579ab63cd478    1\n",
      "03979ad0b36e048187c377f3c1eb39d8    1\n",
      "0667109fa0c5923c71c1f9a928300efc    1\n",
      "0204f937c19970a22a5e7cc5e2a6a7b2    1\n",
      "05c4460439ed53167a80744275a13ae2    1\n",
      "03a55888657c7ba581283eee1d6d2753    1\n",
      "0220152cdaad06708a0b233b3c878390    1\n",
      "04e4e123a07e887c66debd5c8ff66ec0    1\n",
      "0629c9f9774063084b1b09fd4a8fef56    1\n",
      "038f1eaaa95abda8d8b1688952561d3b    1\n",
      "03e8d80ffd40b2d2457b906bb21862e9    1\n",
      "06771e10e8e1d3f97c8dab40b89e2b0e    1\n",
      "037202689320cfd1cce029a956b86975    1\n",
      "0589171e65100cf091dbaadfd8bda7d3    1\n",
      "0121c531a66b49b2e9bdd96beb666c05    1\n",
      "01ca5ffb06de56bb1f3066f33a5e96c3    1\n",
      "0581e09464f2f277b676e30d4392a540    1\n",
      "047ababb9d8e6fac05a2594834eaaa71    1\n",
      "04cf38c3c9f8a0965a41e0194289fcde    1\n",
      "00e4bdcee00153404d9f3aedd5b489df    1\n",
      "0126500e6b24648afb7792617f7072c5    1\n",
      "062a1ad9d3b19b7f7ae2b775a225afe0    1\n",
      "0662634902f0690957fdaba8090f4c11    1\n",
      "00ab33dbaff42e2767d2442b17a7c01b    1\n",
      "04fdaf3db29c032c92d40985f5650f7c    1\n",
      "Name: id, Length: 15657, dtype: int64\n"
     ]
    }
   ],
   "source": [
    "testDuoble = dataAll['id'].value_counts()\n",
    "print (testDuoble)"
   ]
  },
  {
   "cell_type": "code",
   "execution_count": 7,
   "metadata": {},
   "outputs": [
    {
     "data": {
      "text/html": [
       "<div>\n",
       "<style scoped>\n",
       "    .dataframe tbody tr th:only-of-type {\n",
       "        vertical-align: middle;\n",
       "    }\n",
       "\n",
       "    .dataframe tbody tr th {\n",
       "        vertical-align: top;\n",
       "    }\n",
       "\n",
       "    .dataframe thead th {\n",
       "        text-align: right;\n",
       "    }\n",
       "</style>\n",
       "<table border=\"1\" class=\"dataframe\">\n",
       "  <thead>\n",
       "    <tr style=\"text-align: right;\">\n",
       "      <th></th>\n",
       "      <th>id</th>\n",
       "      <th>count</th>\n",
       "    </tr>\n",
       "  </thead>\n",
       "  <tbody>\n",
       "    <tr>\n",
       "      <th>0</th>\n",
       "      <td>0068e9af8a4cae7feaba92b50281501e</td>\n",
       "      <td>145</td>\n",
       "    </tr>\n",
       "    <tr>\n",
       "      <th>1</th>\n",
       "      <td>00520331fe4c5829964535b3221d264f</td>\n",
       "      <td>141</td>\n",
       "    </tr>\n",
       "    <tr>\n",
       "      <th>2</th>\n",
       "      <td>007b632b01680f705ea0a25896e56264</td>\n",
       "      <td>140</td>\n",
       "    </tr>\n",
       "    <tr>\n",
       "      <th>3</th>\n",
       "      <td>010913096fd3f7c07f4982a93af31fe3</td>\n",
       "      <td>134</td>\n",
       "    </tr>\n",
       "    <tr>\n",
       "      <th>4</th>\n",
       "      <td>0099508c686a454eef8a708dc30bd2f1</td>\n",
       "      <td>124</td>\n",
       "    </tr>\n",
       "  </tbody>\n",
       "</table>\n",
       "</div>"
      ],
      "text/plain": [
       "                                 id  count\n",
       "0  0068e9af8a4cae7feaba92b50281501e    145\n",
       "1  00520331fe4c5829964535b3221d264f    141\n",
       "2  007b632b01680f705ea0a25896e56264    140\n",
       "3  010913096fd3f7c07f4982a93af31fe3    134\n",
       "4  0099508c686a454eef8a708dc30bd2f1    124"
      ]
     },
     "execution_count": 7,
     "metadata": {},
     "output_type": "execute_result"
    }
   ],
   "source": [
    "dataFile1.head()\n",
    "#dataFile2.shape"
   ]
  },
  {
   "cell_type": "code",
   "execution_count": 8,
   "metadata": {},
   "outputs": [],
   "source": [
    "\n"
   ]
  },
  {
   "cell_type": "code",
   "execution_count": 10,
   "metadata": {},
   "outputs": [
    {
     "name": "stdout",
     "output_type": "stream",
     "text": [
      "(6178, 2)\n"
     ]
    },
    {
     "data": {
      "text/html": [
       "<div>\n",
       "<style scoped>\n",
       "    .dataframe tbody tr th:only-of-type {\n",
       "        vertical-align: middle;\n",
       "    }\n",
       "\n",
       "    .dataframe tbody tr th {\n",
       "        vertical-align: top;\n",
       "    }\n",
       "\n",
       "    .dataframe thead th {\n",
       "        text-align: right;\n",
       "    }\n",
       "</style>\n",
       "<table border=\"1\" class=\"dataframe\">\n",
       "  <thead>\n",
       "    <tr style=\"text-align: right;\">\n",
       "      <th></th>\n",
       "      <th>id</th>\n",
       "      <th>count</th>\n",
       "    </tr>\n",
       "  </thead>\n",
       "  <tbody>\n",
       "    <tr>\n",
       "      <th>3084</th>\n",
       "      <td>000540eb2c90f1d3be89121a239105d3</td>\n",
       "      <td>1</td>\n",
       "    </tr>\n",
       "    <tr>\n",
       "      <th>3085</th>\n",
       "      <td>00220aaa1519ae7ce64e1eaf0beceb02</td>\n",
       "      <td>1</td>\n",
       "    </tr>\n",
       "    <tr>\n",
       "      <th>3086</th>\n",
       "      <td>0043d910e985e742c33e53f7be4a2058</td>\n",
       "      <td>1</td>\n",
       "    </tr>\n",
       "    <tr>\n",
       "      <th>3087</th>\n",
       "      <td>000bf0266fec5353077e45144cf44372</td>\n",
       "      <td>1</td>\n",
       "    </tr>\n",
       "    <tr>\n",
       "      <th>3088</th>\n",
       "      <td>00bbc2d82fdf79bd3b27dbc51dbfc624</td>\n",
       "      <td>1</td>\n",
       "    </tr>\n",
       "  </tbody>\n",
       "</table>\n",
       "</div>"
      ],
      "text/plain": [
       "                                    id  count\n",
       "3084  000540eb2c90f1d3be89121a239105d3      1\n",
       "3085  00220aaa1519ae7ce64e1eaf0beceb02      1\n",
       "3086  0043d910e985e742c33e53f7be4a2058      1\n",
       "3087  000bf0266fec5353077e45144cf44372      1\n",
       "3088  00bbc2d82fdf79bd3b27dbc51dbfc624      1"
      ]
     },
     "execution_count": 10,
     "metadata": {},
     "output_type": "execute_result"
    }
   ],
   "source": [
    "\n"
   ]
  },
  {
   "cell_type": "code",
   "execution_count": null,
   "metadata": {},
   "outputs": [],
   "source": [
    "print (type(dataFile1))"
   ]
  },
  {
   "cell_type": "code",
   "execution_count": 22,
   "metadata": {},
   "outputs": [
    {
     "data": {
      "text/plain": [
       "(427994, 2)"
      ]
     },
     "execution_count": 22,
     "metadata": {},
     "output_type": "execute_result"
    }
   ],
   "source": [
    "dataAns = pd.read_csv('mlboot_train_answers.tsv', sep='\\t')\n",
    "dataAns.shape"
   ]
  },
  {
   "cell_type": "code",
   "execution_count": null,
   "metadata": {},
   "outputs": [],
   "source": [
    "dataAns['']"
   ]
  },
  {
   "cell_type": "code",
   "execution_count": 21,
   "metadata": {},
   "outputs": [
    {
     "data": {
      "text/plain": [
       "(180245, 1)"
      ]
     },
     "execution_count": 21,
     "metadata": {},
     "output_type": "execute_result"
    }
   ],
   "source": [
    "dataAns = pd.read_csv('mlboot_test.tsv', sep='\\t')\n",
    "dataAns.shape"
   ]
  }
 ],
 "metadata": {
  "kernelspec": {
   "display_name": "Python 3",
   "language": "python",
   "name": "python3"
  },
  "language_info": {
   "codemirror_mode": {
    "name": "ipython",
    "version": 3
   },
   "file_extension": ".py",
   "mimetype": "text/x-python",
   "name": "python",
   "nbconvert_exporter": "python",
   "pygments_lexer": "ipython3",
   "version": "3.6.5"
  }
 },
 "nbformat": 4,
 "nbformat_minor": 2
}
