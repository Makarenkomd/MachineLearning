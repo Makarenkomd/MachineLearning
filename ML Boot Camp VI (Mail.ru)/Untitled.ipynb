{
 "cells": [
  {
   "cell_type": "code",
   "execution_count": 3,
   "metadata": {},
   "outputs": [
    {
     "name": "stdout",
     "output_type": "stream",
     "text": [
      "['00000d2994b6df9239901389031acaac', '5', '{\"809001\":2,\"848545\":2,\"565828\":1,\"490363\":1}', '{\"85789\":1,\"238490\":1,\"32285\":1,\"103987\":1,\"16507\":2,\"6477\":1,\"92797\":2}', '{}', '39\\n']\n"
     ]
    }
   ],
   "source": [
    "fileData = open (\"mlboot_data0.tsv\")\n",
    "data = fileData.readline()\n",
    "line = data.split('\\t')\n",
    "\n",
    "print (line)"
   ]
  },
  {
   "cell_type": "code",
   "execution_count": 20,
   "metadata": {},
   "outputs": [],
   "source": [
    "import pandas as pd\n",
    "data = pd.read_csv('mlboot_data0.tsv', sep='\\t',  names =[\"id\", \"cat_feature\", \"inet1\", \"ine2\", \"inet\",\"day\"])"
   ]
  },
  {
   "cell_type": "code",
   "execution_count": 21,
   "metadata": {},
   "outputs": [
    {
     "data": {
      "text/html": [
       "<div>\n",
       "<style scoped>\n",
       "    .dataframe tbody tr th:only-of-type {\n",
       "        vertical-align: middle;\n",
       "    }\n",
       "\n",
       "    .dataframe tbody tr th {\n",
       "        vertical-align: top;\n",
       "    }\n",
       "\n",
       "    .dataframe thead th {\n",
       "        text-align: right;\n",
       "    }\n",
       "</style>\n",
       "<table border=\"1\" class=\"dataframe\">\n",
       "  <thead>\n",
       "    <tr style=\"text-align: right;\">\n",
       "      <th></th>\n",
       "      <th>id</th>\n",
       "      <th>cat_feature</th>\n",
       "      <th>inet1</th>\n",
       "      <th>ine2</th>\n",
       "      <th>inet</th>\n",
       "      <th>day</th>\n",
       "    </tr>\n",
       "  </thead>\n",
       "  <tbody>\n",
       "    <tr>\n",
       "      <th>0</th>\n",
       "      <td>00000d2994b6df9239901389031acaac</td>\n",
       "      <td>5</td>\n",
       "      <td>{\"809001\":2,\"848545\":2,\"565828\":1,\"490363\":1}</td>\n",
       "      <td>{\"85789\":1,\"238490\":1,\"32285\":1,\"103987\":1,\"16...</td>\n",
       "      <td>{}</td>\n",
       "      <td>39</td>\n",
       "    </tr>\n",
       "    <tr>\n",
       "      <th>1</th>\n",
       "      <td>00000d2994b6df9239901389031acaac</td>\n",
       "      <td>5</td>\n",
       "      <td>{\"809001\":2,\"1160689\":1,\"14018\":1,\"843995\":1,\"...</td>\n",
       "      <td>{\"9629\":1,\"894555\":1,\"2812609\":1,\"15310\":1,\"48...</td>\n",
       "      <td>{}</td>\n",
       "      <td>43</td>\n",
       "    </tr>\n",
       "    <tr>\n",
       "      <th>2</th>\n",
       "      <td>00000d2994b6df9239901389031acaac</td>\n",
       "      <td>5</td>\n",
       "      <td>{\"536657\":1,\"1723154\":1,\"948501\":1,\"1159583\":1...</td>\n",
       "      <td>{\"129137\":1,\"14056\":1,\"9763\":1,\"44215\":1,\"3671...</td>\n",
       "      <td>{}</td>\n",
       "      <td>45</td>\n",
       "    </tr>\n",
       "    <tr>\n",
       "      <th>3</th>\n",
       "      <td>00000d2994b6df9239901389031acaac</td>\n",
       "      <td>5</td>\n",
       "      <td>{\"1676126\":1,\"1321640\":1,\"1198\":1,\"809001\":2,\"...</td>\n",
       "      <td>{\"153774\":1,\"2127\":1,\"158967\":1}</td>\n",
       "      <td>{}</td>\n",
       "      <td>46</td>\n",
       "    </tr>\n",
       "    <tr>\n",
       "      <th>4</th>\n",
       "      <td>00000d2994b6df9239901389031acaac</td>\n",
       "      <td>5</td>\n",
       "      <td>{\"1125045\":2,\"1596919\":1,\"1857574\":1,\"282284\":...</td>\n",
       "      <td>{\"2979\":1,\"30581\":1,\"7296\":1,\"127256\":1,\"18803...</td>\n",
       "      <td>{}</td>\n",
       "      <td>48</td>\n",
       "    </tr>\n",
       "  </tbody>\n",
       "</table>\n",
       "</div>"
      ],
      "text/plain": [
       "                                 id  cat_feature  \\\n",
       "0  00000d2994b6df9239901389031acaac            5   \n",
       "1  00000d2994b6df9239901389031acaac            5   \n",
       "2  00000d2994b6df9239901389031acaac            5   \n",
       "3  00000d2994b6df9239901389031acaac            5   \n",
       "4  00000d2994b6df9239901389031acaac            5   \n",
       "\n",
       "                                               inet1  \\\n",
       "0      {\"809001\":2,\"848545\":2,\"565828\":1,\"490363\":1}   \n",
       "1  {\"809001\":2,\"1160689\":1,\"14018\":1,\"843995\":1,\"...   \n",
       "2  {\"536657\":1,\"1723154\":1,\"948501\":1,\"1159583\":1...   \n",
       "3  {\"1676126\":1,\"1321640\":1,\"1198\":1,\"809001\":2,\"...   \n",
       "4  {\"1125045\":2,\"1596919\":1,\"1857574\":1,\"282284\":...   \n",
       "\n",
       "                                                ine2 inet  day  \n",
       "0  {\"85789\":1,\"238490\":1,\"32285\":1,\"103987\":1,\"16...   {}   39  \n",
       "1  {\"9629\":1,\"894555\":1,\"2812609\":1,\"15310\":1,\"48...   {}   43  \n",
       "2  {\"129137\":1,\"14056\":1,\"9763\":1,\"44215\":1,\"3671...   {}   45  \n",
       "3                   {\"153774\":1,\"2127\":1,\"158967\":1}   {}   46  \n",
       "4  {\"2979\":1,\"30581\":1,\"7296\":1,\"127256\":1,\"18803...   {}   48  "
      ]
     },
     "execution_count": 21,
     "metadata": {},
     "output_type": "execute_result"
    }
   ],
   "source": [
    "data.head()"
   ]
  },
  {
   "cell_type": "code",
   "execution_count": 65,
   "metadata": {},
   "outputs": [
    {
     "data": {
      "text/html": [
       "<div>\n",
       "<style scoped>\n",
       "    .dataframe tbody tr th:only-of-type {\n",
       "        vertical-align: middle;\n",
       "    }\n",
       "\n",
       "    .dataframe tbody tr th {\n",
       "        vertical-align: top;\n",
       "    }\n",
       "\n",
       "    .dataframe thead th {\n",
       "        text-align: right;\n",
       "    }\n",
       "</style>\n",
       "<table border=\"1\" class=\"dataframe\">\n",
       "  <thead>\n",
       "    <tr style=\"text-align: right;\">\n",
       "      <th></th>\n",
       "      <th>id</th>\n",
       "      <th>count</th>\n",
       "    </tr>\n",
       "  </thead>\n",
       "  <tbody>\n",
       "    <tr>\n",
       "      <th>0</th>\n",
       "      <td>0152db9bd2b02d73503b7d0ae91eace7</td>\n",
       "      <td>157</td>\n",
       "    </tr>\n",
       "    <tr>\n",
       "      <th>1</th>\n",
       "      <td>017402a00171ea39f0080a4d3de86fad</td>\n",
       "      <td>154</td>\n",
       "    </tr>\n",
       "    <tr>\n",
       "      <th>2</th>\n",
       "      <td>02181608aa6807884dac088452c60af0</td>\n",
       "      <td>144</td>\n",
       "    </tr>\n",
       "    <tr>\n",
       "      <th>3</th>\n",
       "      <td>0236fa6fa5be1e678fa22911b2461a30</td>\n",
       "      <td>139</td>\n",
       "    </tr>\n",
       "    <tr>\n",
       "      <th>4</th>\n",
       "      <td>01bbf635ba3d8d9962c3a4fa72a06982</td>\n",
       "      <td>137</td>\n",
       "    </tr>\n",
       "  </tbody>\n",
       "</table>\n",
       "</div>"
      ],
      "text/plain": [
       "                                 id  count\n",
       "0  0152db9bd2b02d73503b7d0ae91eace7    157\n",
       "1  017402a00171ea39f0080a4d3de86fad    154\n",
       "2  02181608aa6807884dac088452c60af0    144\n",
       "3  0236fa6fa5be1e678fa22911b2461a30    139\n",
       "4  01bbf635ba3d8d9962c3a4fa72a06982    137"
      ]
     },
     "execution_count": 65,
     "metadata": {},
     "output_type": "execute_result"
    }
   ],
   "source": [
    "dataFile1 = data['id'].value_counts().to_frame('count').reset_index()\n",
    "dataFile1.columns=['id','count']\n",
    "dataFile1.shape\n",
    "dataFile1.head()"
   ]
  },
  {
   "cell_type": "code",
   "execution_count": null,
   "metadata": {},
   "outputs": [],
   "source": [
    "data = pd.read_csv('mlboot_data1.tsv', sep='\\t',  names =[\"id\", \"cat_feature\", \"inet1\", \"ine2\", \"inet\",\"day\"])\n"
   ]
  },
  {
   "cell_type": "code",
   "execution_count": 62,
   "metadata": {},
   "outputs": [
    {
     "name": "stdout",
     "output_type": "stream",
     "text": [
      "<class 'pandas.core.frame.DataFrame'>\n"
     ]
    },
    {
     "data": {
      "text/plain": [
       "Index(['id', 'count'], dtype='object')"
      ]
     },
     "execution_count": 62,
     "metadata": {},
     "output_type": "execute_result"
    }
   ],
   "source": [
    "dataFile2 = data['id'].value_counts().to_frame('count').reset_index()\n",
    "dataFile2.columns=['id','count']\n",
    "print(type(dataFile2))\n",
    "dataFile2.columns"
   ]
  },
  {
   "cell_type": "code",
   "execution_count": 64,
   "metadata": {},
   "outputs": [
    {
     "data": {
      "text/html": [
       "<div>\n",
       "<style scoped>\n",
       "    .dataframe tbody tr th:only-of-type {\n",
       "        vertical-align: middle;\n",
       "    }\n",
       "\n",
       "    .dataframe tbody tr th {\n",
       "        vertical-align: top;\n",
       "    }\n",
       "\n",
       "    .dataframe thead th {\n",
       "        text-align: right;\n",
       "    }\n",
       "</style>\n",
       "<table border=\"1\" class=\"dataframe\">\n",
       "  <thead>\n",
       "    <tr style=\"text-align: right;\">\n",
       "      <th></th>\n",
       "      <th>id</th>\n",
       "      <th>count</th>\n",
       "    </tr>\n",
       "  </thead>\n",
       "  <tbody>\n",
       "    <tr>\n",
       "      <th>0</th>\n",
       "      <td>0152db9bd2b02d73503b7d0ae91eace7</td>\n",
       "      <td>157</td>\n",
       "    </tr>\n",
       "    <tr>\n",
       "      <th>1</th>\n",
       "      <td>017402a00171ea39f0080a4d3de86fad</td>\n",
       "      <td>154</td>\n",
       "    </tr>\n",
       "    <tr>\n",
       "      <th>2</th>\n",
       "      <td>02181608aa6807884dac088452c60af0</td>\n",
       "      <td>144</td>\n",
       "    </tr>\n",
       "    <tr>\n",
       "      <th>3</th>\n",
       "      <td>0236fa6fa5be1e678fa22911b2461a30</td>\n",
       "      <td>139</td>\n",
       "    </tr>\n",
       "    <tr>\n",
       "      <th>4</th>\n",
       "      <td>01bbf635ba3d8d9962c3a4fa72a06982</td>\n",
       "      <td>137</td>\n",
       "    </tr>\n",
       "  </tbody>\n",
       "</table>\n",
       "</div>"
      ],
      "text/plain": [
       "                                 id  count\n",
       "0  0152db9bd2b02d73503b7d0ae91eace7    157\n",
       "1  017402a00171ea39f0080a4d3de86fad    154\n",
       "2  02181608aa6807884dac088452c60af0    144\n",
       "3  0236fa6fa5be1e678fa22911b2461a30    139\n",
       "4  01bbf635ba3d8d9962c3a4fa72a06982    137"
      ]
     },
     "execution_count": 64,
     "metadata": {},
     "output_type": "execute_result"
    }
   ],
   "source": [
    "dataFile2.head()\n",
    "#dataFile2.shape"
   ]
  },
  {
   "cell_type": "code",
   "execution_count": 67,
   "metadata": {},
   "outputs": [],
   "source": [
    "dataAll = pd.concat([dataFile1, dataFile2])\n"
   ]
  },
  {
   "cell_type": "code",
   "execution_count": 71,
   "metadata": {},
   "outputs": [
    {
     "data": {
      "text/html": [
       "<div>\n",
       "<style scoped>\n",
       "    .dataframe tbody tr th:only-of-type {\n",
       "        vertical-align: middle;\n",
       "    }\n",
       "\n",
       "    .dataframe tbody tr th {\n",
       "        vertical-align: top;\n",
       "    }\n",
       "\n",
       "    .dataframe thead th {\n",
       "        text-align: right;\n",
       "    }\n",
       "</style>\n",
       "<table border=\"1\" class=\"dataframe\">\n",
       "  <thead>\n",
       "    <tr style=\"text-align: right;\">\n",
       "      <th></th>\n",
       "      <th>id</th>\n",
       "      <th>count</th>\n",
       "    </tr>\n",
       "  </thead>\n",
       "  <tbody>\n",
       "    <tr>\n",
       "      <th>3181</th>\n",
       "      <td>025281dc3fc3f945d9053a2be5e68342</td>\n",
       "      <td>1</td>\n",
       "    </tr>\n",
       "    <tr>\n",
       "      <th>3182</th>\n",
       "      <td>025ef01a50fea21bdabb64f2d269aeaf</td>\n",
       "      <td>1</td>\n",
       "    </tr>\n",
       "    <tr>\n",
       "      <th>3183</th>\n",
       "      <td>016a13c5ca3daa78a3ad4ca14a9377a4</td>\n",
       "      <td>1</td>\n",
       "    </tr>\n",
       "    <tr>\n",
       "      <th>3184</th>\n",
       "      <td>020528a227e5ab5d481fb787df370eb1</td>\n",
       "      <td>1</td>\n",
       "    </tr>\n",
       "    <tr>\n",
       "      <th>3185</th>\n",
       "      <td>029eda39eb1324527563f2af61f5ab43</td>\n",
       "      <td>1</td>\n",
       "    </tr>\n",
       "  </tbody>\n",
       "</table>\n",
       "</div>"
      ],
      "text/plain": [
       "                                    id  count\n",
       "3181  025281dc3fc3f945d9053a2be5e68342      1\n",
       "3182  025ef01a50fea21bdabb64f2d269aeaf      1\n",
       "3183  016a13c5ca3daa78a3ad4ca14a9377a4      1\n",
       "3184  020528a227e5ab5d481fb787df370eb1      1\n",
       "3185  029eda39eb1324527563f2af61f5ab43      1"
      ]
     },
     "execution_count": 71,
     "metadata": {},
     "output_type": "execute_result"
    }
   ],
   "source": [
    "dataAll.shape\n",
    "dataAll.tail()\n"
   ]
  },
  {
   "cell_type": "code",
   "execution_count": null,
   "metadata": {},
   "outputs": [],
   "source": [
    "print (type(dataFile1))"
   ]
  },
  {
   "cell_type": "code",
   "execution_count": 34,
   "metadata": {},
   "outputs": [
    {
     "data": {
      "text/html": [
       "<div>\n",
       "<style scoped>\n",
       "    .dataframe tbody tr th:only-of-type {\n",
       "        vertical-align: middle;\n",
       "    }\n",
       "\n",
       "    .dataframe tbody tr th {\n",
       "        vertical-align: top;\n",
       "    }\n",
       "\n",
       "    .dataframe thead th {\n",
       "        text-align: right;\n",
       "    }\n",
       "</style>\n",
       "<table border=\"1\" class=\"dataframe\">\n",
       "  <thead>\n",
       "    <tr style=\"text-align: right;\">\n",
       "      <th></th>\n",
       "      <th>cuid</th>\n",
       "      <th>target</th>\n",
       "    </tr>\n",
       "  </thead>\n",
       "  <tbody>\n",
       "    <tr>\n",
       "      <th>0</th>\n",
       "      <td>dc28aafafcfa71c0bbfa2a5724af6061</td>\n",
       "      <td>0</td>\n",
       "    </tr>\n",
       "    <tr>\n",
       "      <th>1</th>\n",
       "      <td>a4e12f1cbce08d16f3bb0672cef5193c</td>\n",
       "      <td>0</td>\n",
       "    </tr>\n",
       "    <tr>\n",
       "      <th>2</th>\n",
       "      <td>545df258854a9e8e64a3825aff728a41</td>\n",
       "      <td>0</td>\n",
       "    </tr>\n",
       "    <tr>\n",
       "      <th>3</th>\n",
       "      <td>45807d242c676eee729a5efc5fb67df2</td>\n",
       "      <td>0</td>\n",
       "    </tr>\n",
       "    <tr>\n",
       "      <th>4</th>\n",
       "      <td>3bd343dff1d515c6ff4759f5ada0c30b</td>\n",
       "      <td>0</td>\n",
       "    </tr>\n",
       "  </tbody>\n",
       "</table>\n",
       "</div>"
      ],
      "text/plain": [
       "                               cuid  target\n",
       "0  dc28aafafcfa71c0bbfa2a5724af6061       0\n",
       "1  a4e12f1cbce08d16f3bb0672cef5193c       0\n",
       "2  545df258854a9e8e64a3825aff728a41       0\n",
       "3  45807d242c676eee729a5efc5fb67df2       0\n",
       "4  3bd343dff1d515c6ff4759f5ada0c30b       0"
      ]
     },
     "execution_count": 34,
     "metadata": {},
     "output_type": "execute_result"
    }
   ],
   "source": [
    "dataAns = pd.read_csv('mlboot_train_answers.tsv', sep='\\t')\n",
    "dataAns.head()"
   ]
  }
 ],
 "metadata": {
  "kernelspec": {
   "display_name": "Python 3",
   "language": "python",
   "name": "python3"
  },
  "language_info": {
   "codemirror_mode": {
    "name": "ipython",
    "version": 3
   },
   "file_extension": ".py",
   "mimetype": "text/x-python",
   "name": "python",
   "nbconvert_exporter": "python",
   "pygments_lexer": "ipython3",
   "version": "3.6.5"
  }
 },
 "nbformat": 4,
 "nbformat_minor": 2
}
