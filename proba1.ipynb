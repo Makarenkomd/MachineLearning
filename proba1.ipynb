{
 "cells": [
  {
   "cell_type": "code",
   "execution_count": null,
   "metadata": {},
   "outputs": [],
   "source": [
    "import csv"
   ]
  },
  {
   "cell_type": "markdown",
   "metadata": {},
   "source": [
    "Общее число записей"
   ]
  },
  {
   "cell_type": "code",
   "execution_count": 28,
   "metadata": {},
   "outputs": [
    {
     "name": "stdout",
     "output_type": "stream",
     "text": [
      "427995\n"
     ]
    }
   ],
   "source": [
    "\n",
    "fileName = \"mlboot_train_answers.tsv\"\n",
    "fileData = open(fileName)\n",
    "data = fileData.readlines()\n",
    "print (len(data))\n",
    "fileData.close()"
   ]
  },
  {
   "cell_type": "code",
   "execution_count": 3,
   "metadata": {},
   "outputs": [
    {
     "name": "stdout",
     "output_type": "stream",
     "text": [
      "99999\n",
      "99999\n",
      "99999\n",
      "199998\n",
      "99999\n",
      "299997\n",
      "99999\n",
      "399996\n",
      "99999\n",
      "499995\n",
      "99999\n",
      "599994\n",
      "99999\n",
      "699993\n",
      "99999\n",
      "799992\n",
      "99999\n",
      "899991\n",
      "99999\n",
      "999990\n",
      "99999\n",
      "1099989\n",
      "99999\n",
      "1199988\n",
      "99999\n",
      "1299987\n",
      "99999\n",
      "1399986\n",
      "99999\n",
      "1499985\n",
      "99999\n",
      "1599984\n",
      "99999\n",
      "1699983\n",
      "99999\n",
      "1799982\n",
      "99999\n",
      "1899981\n",
      "99999\n",
      "1999980\n",
      "99999\n",
      "2099979\n",
      "99999\n",
      "2199978\n",
      "99999\n",
      "2299977\n",
      "99999\n",
      "2399976\n",
      "99999\n",
      "2499975\n",
      "99999\n",
      "2599974\n",
      "99999\n",
      "2699973\n",
      "99999\n",
      "2799972\n",
      "99999\n",
      "2899971\n",
      "99999\n",
      "2999970\n",
      "99999\n",
      "3099969\n",
      "99999\n",
      "3199968\n",
      "99999\n",
      "3299967\n",
      "99999\n",
      "3399966\n",
      "99999\n",
      "3499965\n",
      "99999\n",
      "3599964\n",
      "99999\n",
      "3699963\n",
      "99999\n",
      "3799962\n",
      "99999\n",
      "3899961\n",
      "99999\n",
      "3999960\n",
      "99999\n",
      "4099959\n",
      "99999\n",
      "4199958\n",
      "99999\n",
      "4299957\n",
      "99999\n",
      "4399956\n",
      "99999\n",
      "4499955\n",
      "99999\n",
      "4599954\n",
      "99999\n",
      "4699953\n",
      "99999\n",
      "4799952\n",
      "99999\n",
      "4899951\n",
      "99999\n",
      "4999950\n",
      "99999\n",
      "5099949\n"
     ]
    },
    {
     "ename": "KeyboardInterrupt",
     "evalue": "",
     "output_type": "error",
     "traceback": [
      "\u001b[1;31m---------------------------------------------------------------------------\u001b[0m",
      "\u001b[1;31mKeyboardInterrupt\u001b[0m                         Traceback (most recent call last)",
      "\u001b[1;32m<ipython-input-3-2f3978b8d61c>\u001b[0m in \u001b[0;36m<module>\u001b[1;34m()\u001b[0m\n\u001b[0;32m     11\u001b[0m \u001b[1;31m#     if row != \"\" :  print (row, file = fileDataOut)\u001b[0m\u001b[1;33m\u001b[0m\u001b[1;33m\u001b[0m\u001b[0m\n\u001b[0;32m     12\u001b[0m     \u001b[1;32mfor\u001b[0m \u001b[0mi\u001b[0m \u001b[1;32min\u001b[0m \u001b[0mrange\u001b[0m\u001b[1;33m(\u001b[0m\u001b[1;36m100000\u001b[0m\u001b[1;33m)\u001b[0m\u001b[1;33m:\u001b[0m\u001b[1;33m\u001b[0m\u001b[0m\n\u001b[1;32m---> 13\u001b[1;33m         \u001b[0mrow\u001b[0m \u001b[1;33m=\u001b[0m \u001b[0mfileData\u001b[0m\u001b[1;33m.\u001b[0m\u001b[0mreadline\u001b[0m\u001b[1;33m(\u001b[0m\u001b[1;33m)\u001b[0m\u001b[1;33m\u001b[0m\u001b[0m\n\u001b[0m\u001b[0;32m     14\u001b[0m         \u001b[0mprint\u001b[0m \u001b[1;33m(\u001b[0m\u001b[0mrow\u001b[0m\u001b[1;33m,\u001b[0m \u001b[0mfile\u001b[0m \u001b[1;33m=\u001b[0m \u001b[0mfileDataOut\u001b[0m\u001b[1;33m)\u001b[0m\u001b[1;33m\u001b[0m\u001b[0m\n\u001b[0;32m     15\u001b[0m \u001b[1;33m\u001b[0m\u001b[0m\n",
      "\u001b[1;31mKeyboardInterrupt\u001b[0m: "
     ]
    }
   ],
   "source": [
    "# разбивка на части\n",
    "fileName = \"mlboot_data.tsv\"\n",
    "toFileName = \"mlboot_data\"\n",
    "\n",
    "fileData = open(fileName)\n",
    "row =\"\" \n",
    "sumRow =0\n",
    "for j in range(105):\n",
    "    fileOut = toFileName+str(j)+\".tsv\"\n",
    "    fileDataOut = open(fileOut, \"w\")\n",
    "    if row != \"\" :  print (row, file = fileDataOut)\n",
    "    for i in range(200001):\n",
    "        row = fileData.readline()\n",
    "        if row != \"\" : \n",
    "            print (row, file = fileDataOut)        \n",
    "            lastrow = row  \n",
    "        #row = row.split('\\t')\n",
    "        #param1 = eval(row[2])\n",
    "        #param2 = eval(row[3])\n",
    "        #print (row[0], row[1], len(param1.keys()), len(param2.keys()), (row[4]), row[5] )\n",
    "    while lastrow == row:\n",
    "        lastrow = row\n",
    "        row = fileData.readline()\n",
    "        if row == \"\": row = fileData.readline()\n",
    "        if row == lastrow:\n",
    "            print (row, file = fileDataOut)  \n",
    "            i+=1\n",
    "        \n",
    "    fileDataOut.close()\n",
    "    print (i)\n",
    "    sumRow+=i\n",
    "    print (sumRow)\n",
    "fileData.close()\n",
    "    "
   ]
  },
  {
   "cell_type": "code",
   "execution_count": null,
   "metadata": {},
   "outputs": [],
   "source": []
  }
 ],
 "metadata": {
  "kernelspec": {
   "display_name": "Python 3",
   "language": "python",
   "name": "python3"
  },
  "language_info": {
   "codemirror_mode": {
    "name": "ipython",
    "version": 3
   },
   "file_extension": ".py",
   "mimetype": "text/x-python",
   "name": "python",
   "nbconvert_exporter": "python",
   "pygments_lexer": "ipython3",
   "version": "3.6.5"
  }
 },
 "nbformat": 4,
 "nbformat_minor": 2
}
