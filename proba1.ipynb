{
 "cells": [
  {
   "cell_type": "code",
   "execution_count": null,
   "metadata": {},
   "outputs": [],
   "source": [
    "import csv"
   ]
  },
  {
   "cell_type": "markdown",
   "metadata": {},
   "source": [
    "Общее число записей"
   ]
  },
  {
   "cell_type": "code",
   "execution_count": 28,
   "metadata": {},
   "outputs": [
    {
     "name": "stdout",
     "output_type": "stream",
     "text": [
      "427995\n"
     ]
    }
   ],
   "source": [
    "\n",
    "fileName = \"mlboot_train_answers.tsv\"\n",
    "fileData = open(fileName)\n",
    "data = fileData.readlines()\n",
    "print (len(data))\n",
    "fileData.close()"
   ]
  },
  {
   "cell_type": "code",
   "execution_count": 35,
   "metadata": {},
   "outputs": [],
   "source": [
    "# разбивка на части\n",
    "fileName = \"mlboot_data.tsv\"\n",
    "toFileName = \"mlboot_data\"\n",
    "\n",
    "fileData = open(fileName)\n",
    "\n",
    "for j in range(5):\n",
    "    fileOut = toFileName+str(j)+\".tsv\"\n",
    "    fileDataOut = open(fileOut, \"w\")\n",
    "    for i in range(100000):\n",
    "        row = fileData.readline()\n",
    "        print (row, file = fileDataOut)\n",
    "        #row = row.split('\\t')\n",
    "        #param1 = eval(row[2])\n",
    "        #param2 = eval(row[3])\n",
    "        #print (row[0], row[1], len(param1.keys()), len(param2.keys()), (row[4]), row[5] )\n",
    "    fileDataOut.close()\n",
    "fileData.close()\n",
    "    "
   ]
  },
  {
   "cell_type": "code",
   "execution_count": null,
   "metadata": {},
   "outputs": [],
   "source": []
  }
 ],
 "metadata": {
  "kernelspec": {
   "display_name": "Python 3",
   "language": "python",
   "name": "python3"
  },
  "language_info": {
   "codemirror_mode": {
    "name": "ipython",
    "version": 3
   },
   "file_extension": ".py",
   "mimetype": "text/x-python",
   "name": "python",
   "nbconvert_exporter": "python",
   "pygments_lexer": "ipython3",
   "version": "3.6.5"
  }
 },
 "nbformat": 4,
 "nbformat_minor": 2
}
